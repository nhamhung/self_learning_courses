{
 "cells": [
  {
   "cell_type": "code",
   "execution_count": 4,
   "metadata": {},
   "outputs": [],
   "source": [
    "from pomegranate import *\n",
    "\n",
    "# Rain node has no parents\n",
    "rain = Node(DiscreteDistribution({\n",
    "    \"none\": 0.7,\n",
    "    \"light\": 0.2,\n",
    "    \"heavy\": 0.1\n",
    "}), name=\"rain\")\n",
    "\n",
    "# Track maintenance node is conditional on rain\n",
    "maintenance = Node(ConditionalProbabilityTable([\n",
    "    [\"none\", \"yes\", 0.4],\n",
    "    [\"none\", \"no\", 0.6],\n",
    "    [\"light\", \"yes\", 0.2],\n",
    "    [\"light\", \"no\", 0.8],\n",
    "    [\"heavy\", \"yes\", 0.1],\n",
    "    [\"heavy\", \"no\", 0.9]\n",
    "], [rain.distribution]), name=\"maintenance\")\n",
    "\n",
    "# Train node is conditional on rain and maintenance\n",
    "train = Node(ConditionalProbabilityTable([\n",
    "    [\"none\", \"yes\", \"on time\", 0.8],\n",
    "    [\"none\", \"yes\", \"delayed\", 0.2],\n",
    "    [\"none\", \"no\", \"on time\", 0.9],\n",
    "    [\"none\", \"no\", \"delayed\", 0.1],\n",
    "    [\"light\", \"yes\", \"on time\", 0.6],\n",
    "    [\"light\", \"yes\", \"delayed\", 0.4],\n",
    "    [\"light\", \"no\", \"on time\", 0.7],\n",
    "    [\"light\", \"no\", \"delayed\", 0.3],\n",
    "    [\"heavy\", \"yes\", \"on time\", 0.4],\n",
    "    [\"heavy\", \"yes\", \"delayed\", 0.6],\n",
    "    [\"heavy\", \"no\", \"on time\", 0.5],\n",
    "    [\"heavy\", \"no\", \"delayed\", 0.5],\n",
    "], [rain.distribution, maintenance.distribution]), name=\"train\")\n",
    "\n",
    "# Appointment node is conditional on train\n",
    "appointment = Node(ConditionalProbabilityTable([\n",
    "    [\"on time\", \"attend\", 0.9],\n",
    "    [\"on time\", \"miss\", 0.1],\n",
    "    [\"delayed\", \"attend\", 0.6],\n",
    "    [\"delayed\", \"miss\", 0.4]\n",
    "], [train.distribution]), name=\"appointment\")"
   ]
  },
  {
   "cell_type": "code",
   "execution_count": 7,
   "metadata": {},
   "outputs": [],
   "source": [
    "# Create a Bayesian Network and add states\n",
    "model = BayesianNetwork()\n",
    "model.add_states(rain, maintenance, train, appointment)\n",
    "\n",
    "# Add edges connecting nodes\n",
    "model.add_edge(rain, maintenance)\n",
    "model.add_edge(rain, train)\n",
    "model.add_edge(maintenance, train)\n",
    "model.add_edge(train, appointment)\n",
    "\n",
    "# Finalize model\n",
    "model.bake()"
   ]
  },
  {
   "cell_type": "code",
   "execution_count": 8,
   "metadata": {},
   "outputs": [
    {
     "name": "stdout",
     "output_type": "stream",
     "text": [
      "0.34019999999999995\n"
     ]
    }
   ],
   "source": [
    "# Calculate probability for a given observation\n",
    "probability = model.probability([[\"none\", \"no\", \"on time\", \"attend\"]])\n",
    "\n",
    "print(probability)"
   ]
  },
  {
   "cell_type": "code",
   "execution_count": 9,
   "metadata": {},
   "outputs": [
    {
     "name": "stdout",
     "output_type": "stream",
     "text": [
      "rain\n",
      "    none: 0.4583\n",
      "    light: 0.3069\n",
      "    heavy: 0.2348\n",
      "maintenance\n",
      "    yes: 0.3568\n",
      "    no: 0.6432\n",
      "train: delayed\n",
      "appointment\n",
      "    attend: 0.6000\n",
      "    miss: 0.4000\n"
     ]
    }
   ],
   "source": [
    "# Calculate predictions based on the evidence that the train was delayed\n",
    "predictions = model.predict_proba({\n",
    "    \"train\": \"delayed\"\n",
    "})\n",
    "\n",
    "# Print predictions for each node\n",
    "for node, prediction in zip(model.states, predictions):\n",
    "    if isinstance(prediction, str):\n",
    "        print(f\"{node.name}: {prediction}\")\n",
    "    else:\n",
    "        print(f\"{node.name}\")\n",
    "        for value, probability in prediction.parameters[0].items():\n",
    "            print(f\"    {value}: {probability:.4f}\")"
   ]
  },
  {
   "cell_type": "code",
   "execution_count": 10,
   "metadata": {},
   "outputs": [
    {
     "data": {
      "text/plain": [
       "array([{\n",
       "           \"class\" : \"Distribution\",\n",
       "           \"dtype\" : \"str\",\n",
       "           \"name\" : \"DiscreteDistribution\",\n",
       "           \"parameters\" : [\n",
       "               {\n",
       "                   \"none\" : 0.4582663523106501,\n",
       "                   \"light\" : 0.30694146412284706,\n",
       "                   \"heavy\" : 0.23479218356650278\n",
       "               }\n",
       "           ],\n",
       "           \"frozen\" : false\n",
       "       }                                         ,\n",
       "       {\n",
       "           \"class\" : \"Distribution\",\n",
       "           \"dtype\" : \"str\",\n",
       "           \"name\" : \"DiscreteDistribution\",\n",
       "           \"parameters\" : [\n",
       "               {\n",
       "                   \"yes\" : 0.35679838331206687,\n",
       "                   \"no\" : 0.6432016166879331\n",
       "               }\n",
       "           ],\n",
       "           \"frozen\" : false\n",
       "       }                                       , 'delayed',\n",
       "       {\n",
       "           \"class\" : \"Distribution\",\n",
       "           \"dtype\" : \"str\",\n",
       "           \"name\" : \"DiscreteDistribution\",\n",
       "           \"parameters\" : [\n",
       "               {\n",
       "                   \"attend\" : 0.5999999999999999,\n",
       "                   \"miss\" : 0.4\n",
       "               }\n",
       "           ],\n",
       "           \"frozen\" : false\n",
       "       }                                         ], dtype=object)"
      ]
     },
     "execution_count": 10,
     "metadata": {},
     "output_type": "execute_result"
    }
   ],
   "source": [
    "predictions"
   ]
  },
  {
   "cell_type": "code",
   "execution_count": null,
   "metadata": {},
   "outputs": [],
   "source": []
  }
 ],
 "metadata": {
  "kernelspec": {
   "display_name": "spark_env",
   "language": "python",
   "name": "python3"
  },
  "language_info": {
   "codemirror_mode": {
    "name": "ipython",
    "version": 3
   },
   "file_extension": ".py",
   "mimetype": "text/x-python",
   "name": "python",
   "nbconvert_exporter": "python",
   "pygments_lexer": "ipython3",
   "version": "3.10.13"
  }
 },
 "nbformat": 4,
 "nbformat_minor": 2
}
